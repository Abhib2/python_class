{
 "cells": [
  {
   "cell_type": "code",
   "execution_count": 1,
   "id": "87160d41",
   "metadata": {},
   "outputs": [
    {
     "name": "stdout",
     "output_type": "stream",
     "text": [
      "Hello World!\n"
     ]
    }
   ],
   "source": [
    "# 1.  Write a program to print a strint \"Hello World!\".\n",
    "\n",
    "print(\"Hello World!\")\n",
    "\n"
   ]
  },
  {
   "cell_type": "code",
   "execution_count": 2,
   "id": "8c22892c",
   "metadata": {},
   "outputs": [
    {
     "name": "stdout",
     "output_type": "stream",
     "text": [
      "Abhi\n"
     ]
    }
   ],
   "source": [
    "# Write a program to store one value in variable and print variable.\n",
    "\n",
    "\n",
    "a=\"Abhi\"\n",
    "print(a)"
   ]
  },
  {
   "cell_type": "code",
   "execution_count": null,
   "id": "5af51d15",
   "metadata": {},
   "outputs": [],
   "source": [
    "# Write a program to take value from user input and print that value.\n",
    "\n",
    "a=str(input(\"Enter\"))"
   ]
  }
 ],
 "metadata": {
  "kernelspec": {
   "display_name": "Python 3 (ipykernel)",
   "language": "python",
   "name": "python3"
  },
  "language_info": {
   "codemirror_mode": {
    "name": "ipython",
    "version": 3
   },
   "file_extension": ".py",
   "mimetype": "text/x-python",
   "name": "python",
   "nbconvert_exporter": "python",
   "pygments_lexer": "ipython3",
   "version": "3.9.13"
  }
 },
 "nbformat": 4,
 "nbformat_minor": 5
}
