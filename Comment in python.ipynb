{
 "cells": [
  {
   "cell_type": "markdown",
   "id": "65bd6195",
   "metadata": {},
   "source": [
    "# Single line comment"
   ]
  },
  {
   "cell_type": "code",
   "execution_count": 2,
   "id": "115067ab",
   "metadata": {},
   "outputs": [
    {
     "name": "stdout",
     "output_type": "stream",
     "text": [
      "Abhi\n"
     ]
    }
   ],
   "source": [
    "# My name is Abhi.  (ctrl+/==#)\n",
    "\n",
    "print(\"Abhi\")"
   ]
  },
  {
   "cell_type": "markdown",
   "id": "ce0581ce",
   "metadata": {},
   "source": [
    "# Multi-line comments"
   ]
  },
  {
   "cell_type": "code",
   "execution_count": 6,
   "id": "556138be",
   "metadata": {},
   "outputs": [
    {
     "name": "stdout",
     "output_type": "stream",
     "text": [
      "abhi\n"
     ]
    }
   ],
   "source": [
    " '''MissingIDFieldWarning: Code cell is missing an id field, this will    \n",
    "        become a hard error in future nbformat versions. You may want     ('''    ''')\n",
    "        to use on your notebooks before validation.'''\n",
    "    \n",
    "\"\"\"MissingIDFieldWarning: Code cell is missing an id field, this will \n",
    "        become a hard error in future nbformat versions. You may want(\"\"\"    \"\"\")\n",
    "        to use on your notebooks before validation.\"\"\"\n",
    "    \n",
    "print('abhi')"
   ]
  },
  {
   "cell_type": "code",
   "execution_count": null,
   "id": "cec2e8c7",
   "metadata": {},
   "outputs": [],
   "source": []
  }
 ],
 "metadata": {
  "kernelspec": {
   "display_name": "Python 3 (ipykernel)",
   "language": "python",
   "name": "python3"
  },
  "language_info": {
   "codemirror_mode": {
    "name": "ipython",
    "version": 3
   },
   "file_extension": ".py",
   "mimetype": "text/x-python",
   "name": "python",
   "nbconvert_exporter": "python",
   "pygments_lexer": "ipython3",
   "version": "3.9.13"
  }
 },
 "nbformat": 4,
 "nbformat_minor": 5
}
