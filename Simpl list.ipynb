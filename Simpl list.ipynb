{
 "cells": [
  {
   "cell_type": "code",
   "execution_count": 2,
   "id": "bb3566bb",
   "metadata": {},
   "outputs": [
    {
     "name": "stdout",
     "output_type": "stream",
     "text": [
      "<class 'list'>\n",
      "[1, 2, 3, 4, 5, 56, 666, 'hello']\n"
     ]
    }
   ],
   "source": [
    "# mutable\n",
    "# []\n",
    "# multiple values \n",
    "\n",
    "\n",
    "l=[1,2,3,4,5,56,666,\"hello\"]\n",
    "print(type(l))\n",
    "print(l)"
   ]
  },
  {
   "cell_type": "code",
   "execution_count": 5,
   "id": "1beb77d3",
   "metadata": {},
   "outputs": [
    {
     "name": "stdout",
     "output_type": "stream",
     "text": [
      "4 666\n"
     ]
    }
   ],
   "source": [
    "print(l[3],l[6])"
   ]
  },
  {
   "cell_type": "code",
   "execution_count": 6,
   "id": "b375593c",
   "metadata": {},
   "outputs": [
    {
     "name": "stdout",
     "output_type": "stream",
     "text": [
      "[1, 2]\n"
     ]
    }
   ],
   "source": [
    "print(l[0:2])"
   ]
  },
  {
   "cell_type": "code",
   "execution_count": 8,
   "id": "b52c9d0b",
   "metadata": {},
   "outputs": [
    {
     "name": "stdout",
     "output_type": "stream",
     "text": [
      "[1, 3, 5, 666]\n"
     ]
    }
   ],
   "source": [
    "print(l[0::2])"
   ]
  },
  {
   "cell_type": "code",
   "execution_count": 9,
   "id": "3bc3d9a1",
   "metadata": {},
   "outputs": [
    {
     "name": "stdout",
     "output_type": "stream",
     "text": [
      "[4, 5, 56, 666, 'hello']\n"
     ]
    }
   ],
   "source": [
    "print(l[3:])"
   ]
  },
  {
   "cell_type": "code",
   "execution_count": 10,
   "id": "a8b3bf7a",
   "metadata": {},
   "outputs": [
    {
     "name": "stdout",
     "output_type": "stream",
     "text": [
      "5\n"
     ]
    }
   ],
   "source": [
    " print(l[-4])"
   ]
  },
  {
   "cell_type": "code",
   "execution_count": 11,
   "id": "502c7504",
   "metadata": {},
   "outputs": [
    {
     "name": "stdout",
     "output_type": "stream",
     "text": [
      "[666, 5, 3, 1]\n"
     ]
    }
   ],
   "source": [
    "print(l[-2::-2])"
   ]
  },
  {
   "cell_type": "code",
   "execution_count": 17,
   "id": "85514641",
   "metadata": {},
   "outputs": [
    {
     "name": "stdout",
     "output_type": "stream",
     "text": [
      "[3, 4, 5, 56, 666]\n"
     ]
    }
   ],
   "source": [
    "print(l[-6:-1])"
   ]
  },
  {
   "cell_type": "code",
   "execution_count": 20,
   "id": "d7961d8a",
   "metadata": {},
   "outputs": [
    {
     "name": "stdout",
     "output_type": "stream",
     "text": [
      "[1, 2, 3, 4, 5, 56, 666, 'hello']\n"
     ]
    }
   ],
   "source": [
    "print(l[:8])"
   ]
  },
  {
   "cell_type": "code",
   "execution_count": 22,
   "id": "f2403598",
   "metadata": {},
   "outputs": [
    {
     "name": "stdout",
     "output_type": "stream",
     "text": [
      "[1]\n"
     ]
    }
   ],
   "source": [
    "print(l[:3:6])"
   ]
  },
  {
   "cell_type": "code",
   "execution_count": 23,
   "id": "e9d2966b",
   "metadata": {},
   "outputs": [
    {
     "name": "stdout",
     "output_type": "stream",
     "text": [
      "[666, 56, 5, 4, 3, 2, 1]\n"
     ]
    }
   ],
   "source": [
    "print(l[-2::-1])"
   ]
  },
  {
   "cell_type": "code",
   "execution_count": null,
   "id": "91f254f1",
   "metadata": {},
   "outputs": [],
   "source": []
  }
 ],
 "metadata": {
  "kernelspec": {
   "display_name": "Python 3 (ipykernel)",
   "language": "python",
   "name": "python3"
  },
  "language_info": {
   "codemirror_mode": {
    "name": "ipython",
    "version": 3
   },
   "file_extension": ".py",
   "mimetype": "text/x-python",
   "name": "python",
   "nbconvert_exporter": "python",
   "pygments_lexer": "ipython3",
   "version": "3.9.13"
  }
 },
 "nbformat": 4,
 "nbformat_minor": 5
}
