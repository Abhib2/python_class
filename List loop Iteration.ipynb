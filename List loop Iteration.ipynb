{
 "cells": [
  {
   "cell_type": "code",
   "execution_count": 1,
   "id": "cd94d639",
   "metadata": {},
   "outputs": [],
   "source": [
    "# Lists Are Ordered\n",
    "# Lists Can Contain Arbitrary Objects\n",
    "# List Elements Can Be Accessed by Index\n",
    "# Lists Can Be Nested\n",
    "# Lists Are Mutable\n",
    "# Lists Are Dynamic"
   ]
  },
  {
   "cell_type": "code",
   "execution_count": 1,
   "id": "afddb968",
   "metadata": {},
   "outputs": [
    {
     "name": "stdout",
     "output_type": "stream",
     "text": [
      "8\n"
     ]
    }
   ],
   "source": [
    "# l=[10,2030,40,50,60,70,80,90]\n",
    "# t=len(l)\n",
    "# print(t)"
   ]
  },
  {
   "cell_type": "code",
   "execution_count": 3,
   "id": "a817ace6",
   "metadata": {},
   "outputs": [
    {
     "name": "stdout",
     "output_type": "stream",
     "text": [
      "8\n"
     ]
    }
   ],
   "source": [
    "k=[10,2030,40,50,60,70,80,90]\n",
    "print (len(k))"
   ]
  },
  {
   "cell_type": "code",
   "execution_count": 12,
   "id": "83f41903",
   "metadata": {},
   "outputs": [
    {
     "name": "stdout",
     "output_type": "stream",
     "text": [
      "0\n",
      "1\n",
      "2\n",
      "3\n",
      "4\n",
      "5\n",
      "6\n",
      "7\n"
     ]
    }
   ],
   "source": [
    "m=[10,2030,40,50,60,70,80,90]\n",
    "f=len(m)\n",
    "for  n in range(f):\n",
    "    print(n)\n",
    "    "
   ]
  },
  {
   "cell_type": "code",
   "execution_count": 19,
   "id": "faed2730",
   "metadata": {},
   "outputs": [
    {
     "name": "stdout",
     "output_type": "stream",
     "text": [
      "10\n",
      "2030\n",
      "40\n",
      "50\n",
      "60\n",
      "70\n",
      "80\n",
      "9000\n"
     ]
    }
   ],
   "source": [
    "m=[10,2030,40,50,60,70,80,9000]\n",
    "f=len(m)\n",
    "for  n in range(f):\n",
    "    print(m[n])"
   ]
  },
  {
   "cell_type": "code",
   "execution_count": 20,
   "id": "bf2aa97b",
   "metadata": {},
   "outputs": [
    {
     "name": "stdout",
     "output_type": "stream",
     "text": [
      "0\n",
      "1\n",
      "2\n",
      "3\n",
      "4\n",
      "5\n",
      "6\n"
     ]
    }
   ],
   "source": [
    "k=[10,2030,40,50,60,70,80,90]\n",
    "f=len(k)\n",
    "for  n in range(f-1):\n",
    "    print(n)\n",
    "    "
   ]
  },
  {
   "cell_type": "code",
   "execution_count": 31,
   "id": "754cf178",
   "metadata": {},
   "outputs": [
    {
     "name": "stdout",
     "output_type": "stream",
     "text": [
      "[10, 2030, 40, 50, 60, 70, 80, 90]\n",
      "[10, 2030, 40, 50, 60, 70, 80, 90]\n",
      "[10, 2030, 40, 50, 60, 70, 80, 90]\n",
      "[10, 2030, 40, 50, 60, 70, 80, 90]\n",
      "[10, 2030, 40, 50, 60, 70, 80, 90]\n",
      "[10, 2030, 40, 50, 60, 70, 80, 90]\n",
      "[10, 2030, 40, 50, 60, 70, 80, 90]\n",
      "[10, 2030, 40, 50, 60, 70, 80, 90]\n"
     ]
    }
   ],
   "source": [
    "l=[10,2030,40,50,60,70,80,90]\n",
    "z=len(l)\n",
    "for  n in range(z):\n",
    "    print(l)"
   ]
  },
  {
   "cell_type": "code",
   "execution_count": 32,
   "id": "182c5d01",
   "metadata": {},
   "outputs": [
    {
     "name": "stdout",
     "output_type": "stream",
     "text": [
      "90\n",
      "80\n",
      "70\n",
      "60\n",
      "50\n",
      "40\n",
      "2030\n",
      "10\n"
     ]
    }
   ],
   "source": [
    "m=[10,2030,40,50,60,70,80,90]\n",
    "f=len(m)\n",
    "for  n in range(f-1,-1,-1):\n",
    "    print(m[n])\n"
   ]
  },
  {
   "cell_type": "code",
   "execution_count": 33,
   "id": "d13d5882",
   "metadata": {},
   "outputs": [
    {
     "name": "stdout",
     "output_type": "stream",
     "text": [
      "7\n",
      "6\n",
      "5\n",
      "4\n",
      "3\n",
      "2\n",
      "1\n",
      "0\n"
     ]
    }
   ],
   "source": [
    "m=[10,2030,40,50,60,70,80,90]\n",
    "f=len(m)\n",
    "for  n in range(f-1,-1,-1):\n",
    "    print(n)\n"
   ]
  },
  {
   "cell_type": "code",
   "execution_count": null,
   "id": "db383d85",
   "metadata": {},
   "outputs": [],
   "source": []
  }
 ],
 "metadata": {
  "kernelspec": {
   "display_name": "Python 3 (ipykernel)",
   "language": "python",
   "name": "python3"
  },
  "language_info": {
   "codemirror_mode": {
    "name": "ipython",
    "version": 3
   },
   "file_extension": ".py",
   "mimetype": "text/x-python",
   "name": "python",
   "nbconvert_exporter": "python",
   "pygments_lexer": "ipython3",
   "version": "3.9.13"
  }
 },
 "nbformat": 4,
 "nbformat_minor": 5
}
