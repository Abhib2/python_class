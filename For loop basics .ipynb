{
 "cells": [
  {
   "cell_type": "markdown",
   "id": "70e08182",
   "metadata": {},
   "source": [
    "# For loop\n"
   ]
  },
  {
   "cell_type": "code",
   "execution_count": 1,
   "id": "437c54bd",
   "metadata": {},
   "outputs": [
    {
     "name": "stdout",
     "output_type": "stream",
     "text": [
      "1\n",
      "2\n",
      "3\n",
      "4\n",
      "5\n",
      "6\n",
      "7\n",
      "8\n",
      "9\n",
      "10\n"
     ]
    }
   ],
   "source": [
    "#range\n",
    "\n",
    "#Syntax \n",
    "\n",
    "#  1.         for i in range(start value,end value  ):\n",
    "#                 print (i)\n",
    "    \n",
    "    \n",
    "#  2.         for i in range(start value,end value ,step value ):\n",
    "#                 print (i)\n",
    "\n",
    "\n",
    "\n",
    "for i in range(1,11):\n",
    "    print(i)"
   ]
  },
  {
   "cell_type": "code",
   "execution_count": 1,
   "id": "9a45aac5",
   "metadata": {},
   "outputs": [
    {
     "name": "stdout",
     "output_type": "stream",
     "text": [
      "1\n",
      "2\n",
      "3\n",
      "4\n",
      "5\n",
      "6\n",
      "7\n",
      "8\n",
      "9\n",
      "10\n"
     ]
    }
   ],
   "source": [
    "# while loop\n",
    "\n",
    "i=1\n",
    "while(i<=10):\n",
    "    print(i)\n",
    "    i=i+1\n",
    "    "
   ]
  },
  {
   "cell_type": "code",
   "execution_count": 2,
   "id": "5117bde5",
   "metadata": {},
   "outputs": [
    {
     "name": "stdout",
     "output_type": "stream",
     "text": [
      "2\n",
      "4\n",
      "6\n",
      "8\n",
      "10\n",
      "12\n",
      "14\n",
      "16\n",
      "18\n",
      "20\n"
     ]
    }
   ],
   "source": [
    "# wap table of two..\n",
    "\n",
    "for i in range(2,21,2):\n",
    "    print(i)"
   ]
  },
  {
   "cell_type": "code",
   "execution_count": 3,
   "id": "d993750f",
   "metadata": {},
   "outputs": [
    {
     "name": "stdout",
     "output_type": "stream",
     "text": [
      "1\n",
      "2\n",
      "3\n",
      "4\n",
      "5\n",
      "6\n",
      "7\n",
      "8\n",
      "9\n",
      "10\n"
     ]
    }
   ],
   "source": [
    "# wap to print value is 1 to 11.\n",
    "\n",
    "for a in range (1,11):\n",
    "    print(a)"
   ]
  },
  {
   "cell_type": "code",
   "execution_count": 5,
   "id": "71539d23",
   "metadata": {},
   "outputs": [
    {
     "name": "stdout",
     "output_type": "stream",
     "text": [
      "11\n",
      "10\n",
      "9\n",
      "8\n",
      "7\n",
      "6\n",
      "5\n",
      "4\n",
      "3\n",
      "2\n",
      "1\n"
     ]
    }
   ],
   "source": [
    "#  wap print value of 11 to 1.\n",
    "for b in range(11,0,-1):\n",
    "    print(b)"
   ]
  },
  {
   "cell_type": "code",
   "execution_count": 9,
   "id": "eb35dc74",
   "metadata": {},
   "outputs": [
    {
     "name": "stdout",
     "output_type": "stream",
     "text": [
      "20\n",
      "40\n",
      "60\n",
      "80\n",
      "100\n",
      "120\n",
      "140\n",
      "160\n",
      "180\n",
      "200\n",
      " table printed\n"
     ]
    }
   ],
   "source": [
    "#  wap to print the table of 20 and other masses.\n",
    "\n",
    "for h in range (20,201,20):\n",
    "    print(h)\n",
    "else:\n",
    "    print (\"table printed\")"
   ]
  },
  {
   "cell_type": "code",
   "execution_count": 10,
   "id": "9a6542ca",
   "metadata": {},
   "outputs": [
    {
     "name": "stdout",
     "output_type": "stream",
     "text": [
      "66\n",
      "132\n",
      "198\n",
      "264\n",
      "330\n",
      "396\n",
      "462\n",
      "528\n",
      "594\n",
      "660\n",
      "table printed\n"
     ]
    }
   ],
   "source": [
    "\n",
    "for h in range (66,661,66):\n",
    "    print(h)\n",
    "else:\n",
    "    print (\"table printed\")"
   ]
  },
  {
   "cell_type": "code",
   "execution_count": null,
   "id": "4b413f13",
   "metadata": {},
   "outputs": [],
   "source": []
  }
 ],
 "metadata": {
  "kernelspec": {
   "display_name": "Python 3 (ipykernel)",
   "language": "python",
   "name": "python3"
  },
  "language_info": {
   "codemirror_mode": {
    "name": "ipython",
    "version": 3
   },
   "file_extension": ".py",
   "mimetype": "text/x-python",
   "name": "python",
   "nbconvert_exporter": "python",
   "pygments_lexer": "ipython3",
   "version": "3.9.13"
  }
 },
 "nbformat": 4,
 "nbformat_minor": 5
}
