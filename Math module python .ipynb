{
 "cells": [
  {
   "cell_type": "markdown",
   "id": "c197d00d",
   "metadata": {},
   "source": [
    "# Note"
   ]
  },
  {
   "cell_type": "code",
   "execution_count": 1,
   "id": "8e707c5c",
   "metadata": {},
   "outputs": [],
   "source": [
    "# first import the math module\n",
    "#      import math\n",
    "\n",
    "\n",
    "# from math import function name\n"
   ]
  },
  {
   "cell_type": "markdown",
   "id": "89ebe04c",
   "metadata": {},
   "source": [
    "# factorial()"
   ]
  },
  {
   "cell_type": "code",
   "execution_count": 3,
   "id": "fb1cfcd9",
   "metadata": {},
   "outputs": [
    {
     "name": "stdout",
     "output_type": "stream",
     "text": [
      "6\n",
      "362880\n"
     ]
    }
   ],
   "source": [
    "import math\n",
    "\n",
    "print(math.factorial(3))\n",
    "print(math.factorial(9))\n"
   ]
  },
  {
   "cell_type": "markdown",
   "id": "5b99901a",
   "metadata": {},
   "source": [
    "# ceil()"
   ]
  },
  {
   "cell_type": "code",
   "execution_count": 9,
   "id": "44dfedb7",
   "metadata": {},
   "outputs": [
    {
     "name": "stdout",
     "output_type": "stream",
     "text": [
      "8\n",
      "203\n"
     ]
    }
   ],
   "source": [
    "# nearest value of upper number..\n",
    "\n",
    "\n",
    "import math\n",
    "\n",
    "print(math.ceil(7.6655))\n",
    "print(math.ceil(202.111))"
   ]
  },
  {
   "cell_type": "markdown",
   "id": "1e2e4acb",
   "metadata": {},
   "source": [
    "# floor()"
   ]
  },
  {
   "cell_type": "code",
   "execution_count": 11,
   "id": "3d2f588f",
   "metadata": {},
   "outputs": [
    {
     "name": "stdout",
     "output_type": "stream",
     "text": [
      "233\n",
      "99\n"
     ]
    }
   ],
   "source": [
    "# nearest value of lover number..\n",
    "\n",
    "import math \n",
    "\n",
    "print(math.floor(233.9999))\n",
    "print(math.floor(99.99))"
   ]
  },
  {
   "cell_type": "markdown",
   "id": "a68e33a5",
   "metadata": {},
   "source": [
    "# sqrt()"
   ]
  },
  {
   "cell_type": "code",
   "execution_count": 13,
   "id": "31d73862",
   "metadata": {},
   "outputs": [
    {
     "name": "stdout",
     "output_type": "stream",
     "text": [
      "9.9498743710662\n",
      "100.0\n"
     ]
    }
   ],
   "source": [
    "# squer root of any number..\n",
    "\n",
    "import math\n",
    "\n",
    "print(math.sqrt(99))\n",
    "print(math.sqrt(10000))"
   ]
  },
  {
   "cell_type": "code",
   "execution_count": null,
   "id": "89f0e61c",
   "metadata": {},
   "outputs": [],
   "source": []
  },
  {
   "cell_type": "code",
   "execution_count": null,
   "id": "7a16bef6",
   "metadata": {},
   "outputs": [],
   "source": []
  }
 ],
 "metadata": {
  "kernelspec": {
   "display_name": "Python 3 (ipykernel)",
   "language": "python",
   "name": "python3"
  },
  "language_info": {
   "codemirror_mode": {
    "name": "ipython",
    "version": 3
   },
   "file_extension": ".py",
   "mimetype": "text/x-python",
   "name": "python",
   "nbconvert_exporter": "python",
   "pygments_lexer": "ipython3",
   "version": "3.9.13"
  }
 },
 "nbformat": 4,
 "nbformat_minor": 5
}
