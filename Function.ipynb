{
 "cells": [
  {
   "cell_type": "code",
   "execution_count": 1,
   "id": "b913a8a6",
   "metadata": {},
   "outputs": [
    {
     "name": "stdout",
     "output_type": "stream",
     "text": [
      "60\n"
     ]
    }
   ],
   "source": [
    "def sum(a,b):\n",
    "    print(a+b)\n",
    "sum(10,50)"
   ]
  },
  {
   "cell_type": "code",
   "execution_count": 23,
   "id": "f5e50832",
   "metadata": {},
   "outputs": [
    {
     "ename": "SyntaxError",
     "evalue": "invalid syntax (3768159119.py, line 1)",
     "output_type": "error",
     "traceback": [
      "\u001b[1;36m  File \u001b[1;32m\"C:\\Users\\Abhinandan\\AppData\\Local\\Temp\\ipykernel_3912\\3768159119.py\"\u001b[1;36m, line \u001b[1;32m1\u001b[0m\n\u001b[1;33m    def sum(10,20):\u001b[0m\n\u001b[1;37m            ^\u001b[0m\n\u001b[1;31mSyntaxError\u001b[0m\u001b[1;31m:\u001b[0m invalid syntax\n"
     ]
    }
   ],
   "source": [
    "def sum(10,20):\n",
    "    print()\n",
    "sum()"
   ]
  },
  {
   "cell_type": "code",
   "execution_count": 6,
   "id": "05fd5769",
   "metadata": {},
   "outputs": [
    {
     "name": "stdout",
     "output_type": "stream",
     "text": [
      "550\n",
      "120\n"
     ]
    }
   ],
   "source": [
    "def multiply(a,b=55):\n",
    "    a=10\n",
    "    print(a*b)\n",
    "multiply(\"\")\n",
    "multiply(12,12)"
   ]
  },
  {
   "cell_type": "code",
   "execution_count": 10,
   "id": "af1dc782",
   "metadata": {},
   "outputs": [
    {
     "name": "stdout",
     "output_type": "stream",
     "text": [
      "550\n",
      "\n",
      "144\n"
     ]
    }
   ],
   "source": [
    "def multiply(a,b=55):\n",
    "#     a=10\n",
    "    print(a*b)\n",
    "multiply(10)\n",
    "# multiply(\"\",10)\n",
    "multiply(12,12)"
   ]
  },
  {
   "cell_type": "code",
   "execution_count": 16,
   "id": "890a0cdd",
   "metadata": {},
   "outputs": [
    {
     "name": "stdout",
     "output_type": "stream",
     "text": [
      "445\n"
     ]
    }
   ],
   "source": [
    "def sub():\n",
    "    a=1000\n",
    "    b=555\n",
    "    return(a-b)\n",
    "x=sub()\n",
    "print(x)\n"
   ]
  },
  {
   "cell_type": "code",
   "execution_count": 22,
   "id": "ed2c67c1",
   "metadata": {},
   "outputs": [
    {
     "name": "stdout",
     "output_type": "stream",
     "text": [
      "30\n"
     ]
    }
   ],
   "source": [
    "def add(a,b):\n",
    "    return(a+b)\n",
    "x=add(10,20)\n",
    "print(x)"
   ]
  },
  {
   "cell_type": "code",
   "execution_count": null,
   "id": "14e2b5d6",
   "metadata": {},
   "outputs": [],
   "source": []
  }
 ],
 "metadata": {
  "kernelspec": {
   "display_name": "Python 3 (ipykernel)",
   "language": "python",
   "name": "python3"
  },
  "language_info": {
   "codemirror_mode": {
    "name": "ipython",
    "version": 3
   },
   "file_extension": ".py",
   "mimetype": "text/x-python",
   "name": "python",
   "nbconvert_exporter": "python",
   "pygments_lexer": "ipython3",
   "version": "3.9.13"
  }
 },
 "nbformat": 4,
 "nbformat_minor": 5
}
