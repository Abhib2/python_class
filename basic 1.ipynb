{
 "cells": [
  {
   "cell_type": "code",
   "execution_count": 1,
   "id": "8ec7ecd6",
   "metadata": {},
   "outputs": [
    {
     "name": "stdout",
     "output_type": "stream",
     "text": [
      "hello world\n"
     ]
    }
   ],
   "source": [
    "print(\"hello world\")"
   ]
  },
  {
   "cell_type": "code",
   "execution_count": 2,
   "id": "df4f3f37",
   "metadata": {},
   "outputs": [
    {
     "ename": "NameError",
     "evalue": "name 'Abhi' is not defined",
     "output_type": "error",
     "traceback": [
      "\u001b[1;31m---------------------------------------------------------------------------\u001b[0m",
      "\u001b[1;31mNameError\u001b[0m                                 Traceback (most recent call last)",
      "\u001b[1;32m~\\AppData\\Local\\Temp\\ipykernel_4280\\112858282.py\u001b[0m in \u001b[0;36m<module>\u001b[1;34m\u001b[0m\n\u001b[1;32m----> 1\u001b[1;33m \u001b[0ma\u001b[0m\u001b[1;33m=\u001b[0m\u001b[0mAbhi\u001b[0m\u001b[1;33m\u001b[0m\u001b[1;33m\u001b[0m\u001b[0m\n\u001b[0m\u001b[0;32m      2\u001b[0m \u001b[0mprint\u001b[0m\u001b[1;33m(\u001b[0m\u001b[0ma\u001b[0m\u001b[1;33m)\u001b[0m\u001b[1;33m\u001b[0m\u001b[1;33m\u001b[0m\u001b[0m\n",
      "\u001b[1;31mNameError\u001b[0m: name 'Abhi' is not defined"
     ]
    }
   ],
   "source": [
    "a=Abhi\n",
    "print(a)"
   ]
  },
  {
   "cell_type": "code",
   "execution_count": 21,
   "id": "715ac840",
   "metadata": {},
   "outputs": [
    {
     "name": "stdout",
     "output_type": "stream",
     "text": [
      "Abhinandan\n"
     ]
    }
   ],
   "source": [
    "a=\"Abhi\"\n",
    "b=\"nandan\"\n",
    "c=a+b\n",
    "print(c)"
   ]
  },
  {
   "cell_type": "code",
   "execution_count": 4,
   "id": "8cf938f8",
   "metadata": {},
   "outputs": [
    {
     "name": "stdout",
     "output_type": "stream",
     "text": [
      "abhi\n"
     ]
    }
   ],
   "source": [
    "a=\"abhi\"\n",
    "print(a)"
   ]
  },
  {
   "cell_type": "code",
   "execution_count": 5,
   "id": "7c4c632c",
   "metadata": {},
   "outputs": [
    {
     "name": "stdout",
     "output_type": "stream",
     "text": [
      "2345\n"
     ]
    }
   ],
   "source": [
    "n=2345\n",
    "print(n)\n"
   ]
  },
  {
   "cell_type": "code",
   "execution_count": 7,
   "id": "7d3af977",
   "metadata": {},
   "outputs": [
    {
     "name": "stdout",
     "output_type": "stream",
     "text": [
      "468\n",
      "468\n"
     ]
    }
   ],
   "source": [
    "x=234\n",
    "y=234\n",
    "z=x+y\n",
    "print(z)\n",
    "print(x+y)\n"
   ]
  },
  {
   "cell_type": "code",
   "execution_count": 8,
   "id": "7fa64518",
   "metadata": {},
   "outputs": [
    {
     "name": "stdout",
     "output_type": "stream",
     "text": [
      "0\n",
      "0\n"
     ]
    }
   ],
   "source": [
    "x=234\n",
    "y=234\n",
    "z=x-y\n",
    "print(z)\n",
    "print(x-y)\n"
   ]
  },
  {
   "cell_type": "code",
   "execution_count": 9,
   "id": "a40dfa69",
   "metadata": {},
   "outputs": [
    {
     "name": "stdout",
     "output_type": "stream",
     "text": [
      "54756\n",
      "54756\n"
     ]
    }
   ],
   "source": [
    "x=234\n",
    "y=234\n",
    "z=x*y\n",
    "print(z)\n",
    "print(x*y)"
   ]
  },
  {
   "cell_type": "code",
   "execution_count": 10,
   "id": "4995e21e",
   "metadata": {},
   "outputs": [
    {
     "name": "stdout",
     "output_type": "stream",
     "text": [
      "0\n",
      "0\n"
     ]
    }
   ],
   "source": [
    "x=234\n",
    "y=234\n",
    "z=x%y\n",
    "print(z)\n",
    "print(x%y)"
   ]
  },
  {
   "cell_type": "code",
   "execution_count": 11,
   "id": "fdfabd7c",
   "metadata": {},
   "outputs": [
    {
     "name": "stdout",
     "output_type": "stream",
     "text": [
      "1.0\n",
      "1.0\n"
     ]
    }
   ],
   "source": [
    "x=234\n",
    "y=234\n",
    "z=x/y\n",
    "print(z)\n",
    "print(x/y)"
   ]
  },
  {
   "cell_type": "code",
   "execution_count": 14,
   "id": "f3fa751c",
   "metadata": {},
   "outputs": [
    {
     "name": "stdout",
     "output_type": "stream",
     "text": [
      "enter number 222\n",
      "222\n"
     ]
    }
   ],
   "source": [
    "a=int(input(\"enter number \"))\n",
    "print(a)"
   ]
  },
  {
   "cell_type": "code",
   "execution_count": 16,
   "id": "2fda203a",
   "metadata": {},
   "outputs": [
    {
     "ename": "SyntaxError",
     "evalue": "invalid syntax (1877604397.py, line 1)",
     "output_type": "error",
     "traceback": [
      "\u001b[1;36m  File \u001b[1;32m\"C:\\Users\\Abhinandan\\AppData\\Local\\Temp\\ipykernel_4280\\1877604397.py\"\u001b[1;36m, line \u001b[1;32m1\u001b[0m\n\u001b[1;33m    a=int(input(enter number))\u001b[0m\n\u001b[1;37m                      ^\u001b[0m\n\u001b[1;31mSyntaxError\u001b[0m\u001b[1;31m:\u001b[0m invalid syntax\n"
     ]
    }
   ],
   "source": [
    "a=int(input(enter number))\n",
    "print(a)"
   ]
  },
  {
   "cell_type": "code",
   "execution_count": 24,
   "id": "3f973c9d",
   "metadata": {},
   "outputs": [
    {
     "name": "stdout",
     "output_type": "stream",
     "text": [
      "1.0\n",
      "1.0\n"
     ]
    }
   ],
   "source": [
    "# single line comment is  ( ctrl+/).\n",
    "\n",
    "x=234\n",
    "y=234\n",
    "z=x/y\n",
    "print(z)\n",
    "print(x/y)"
   ]
  },
  {
   "cell_type": "code",
   "execution_count": 18,
   "id": "976596c1",
   "metadata": {},
   "outputs": [],
   "source": [
    "# multiple line comment is select all code and ( ctrl+/)..\n",
    "# x=234\n",
    "# y=234\n",
    "# z=x/y\n",
    "# print(z)\n",
    "# print(x/y)"
   ]
  },
  {
   "cell_type": "code",
   "execution_count": 22,
   "id": "91797f0e",
   "metadata": {},
   "outputs": [
    {
     "name": "stdout",
     "output_type": "stream",
     "text": [
      "abhi\n",
      "vishvkarma is\n",
      "a good boy\n"
     ]
    }
   ],
   "source": [
    "a='''abhi\n",
    "vishvkarma is\n",
    "a good boy'''\n",
    "print(a)"
   ]
  },
  {
   "cell_type": "code",
   "execution_count": 1,
   "id": "43ce3a9c",
   "metadata": {},
   "outputs": [
    {
     "data": {
      "text/plain": [
       "'x=234\\ny=234\\nz=x/y\\nprint(z)\\nprint(x/y)'"
      ]
     },
     "execution_count": 1,
     "metadata": {},
     "output_type": "execute_result"
    }
   ],
   "source": [
    "'''x=234\n",
    "y=234\n",
    "z=x/y\n",
    "print(z)\n",
    "print(x/y)'''"
   ]
  },
  {
   "cell_type": "code",
   "execution_count": null,
   "id": "2179f78a",
   "metadata": {},
   "outputs": [],
   "source": []
  }
 ],
 "metadata": {
  "kernelspec": {
   "display_name": "Python 3 (ipykernel)",
   "language": "python",
   "name": "python3"
  },
  "language_info": {
   "codemirror_mode": {
    "name": "ipython",
    "version": 3
   },
   "file_extension": ".py",
   "mimetype": "text/x-python",
   "name": "python",
   "nbconvert_exporter": "python",
   "pygments_lexer": "ipython3",
   "version": "3.9.13"
  }
 },
 "nbformat": 4,
 "nbformat_minor": 5
}
