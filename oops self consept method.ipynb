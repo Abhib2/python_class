{
 "cells": [
  {
   "cell_type": "code",
   "execution_count": 3,
   "id": "aa91f049",
   "metadata": {},
   "outputs": [
    {
     "ename": "NameError",
     "evalue": "name 'a' is not defined",
     "output_type": "error",
     "traceback": [
      "\u001b[1;31m---------------------------------------------------------------------------\u001b[0m",
      "\u001b[1;31mNameError\u001b[0m                                 Traceback (most recent call last)",
      "\u001b[1;32m~\\AppData\\Local\\Temp\\ipykernel_6512\\3078447914.py\u001b[0m in \u001b[0;36m<module>\u001b[1;34m\u001b[0m\n\u001b[0;32m      4\u001b[0m         \u001b[0mprint\u001b[0m\u001b[1;33m(\u001b[0m\u001b[0ma\u001b[0m\u001b[1;33m)\u001b[0m\u001b[1;33m\u001b[0m\u001b[1;33m\u001b[0m\u001b[0m\n\u001b[0;32m      5\u001b[0m \u001b[0mobj\u001b[0m\u001b[1;33m=\u001b[0m\u001b[0mDemoClass\u001b[0m\u001b[1;33m(\u001b[0m\u001b[1;33m)\u001b[0m\u001b[1;33m\u001b[0m\u001b[1;33m\u001b[0m\u001b[0m\n\u001b[1;32m----> 6\u001b[1;33m \u001b[0mobj\u001b[0m\u001b[1;33m.\u001b[0m\u001b[0mshowvalue\u001b[0m\u001b[1;33m(\u001b[0m\u001b[1;33m)\u001b[0m\u001b[1;33m\u001b[0m\u001b[1;33m\u001b[0m\u001b[0m\n\u001b[0m",
      "\u001b[1;32m~\\AppData\\Local\\Temp\\ipykernel_6512\\3078447914.py\u001b[0m in \u001b[0;36mshowvalue\u001b[1;34m(self)\u001b[0m\n\u001b[0;32m      2\u001b[0m     \u001b[0ma\u001b[0m\u001b[1;33m=\u001b[0m\u001b[1;36m10\u001b[0m\u001b[1;33m\u001b[0m\u001b[1;33m\u001b[0m\u001b[0m\n\u001b[0;32m      3\u001b[0m     \u001b[1;32mdef\u001b[0m \u001b[0mshowvalue\u001b[0m\u001b[1;33m(\u001b[0m\u001b[0mself\u001b[0m\u001b[1;33m)\u001b[0m\u001b[1;33m:\u001b[0m\u001b[1;33m\u001b[0m\u001b[1;33m\u001b[0m\u001b[0m\n\u001b[1;32m----> 4\u001b[1;33m         \u001b[0mprint\u001b[0m\u001b[1;33m(\u001b[0m\u001b[0ma\u001b[0m\u001b[1;33m)\u001b[0m\u001b[1;33m\u001b[0m\u001b[1;33m\u001b[0m\u001b[0m\n\u001b[0m\u001b[0;32m      5\u001b[0m \u001b[0mobj\u001b[0m\u001b[1;33m=\u001b[0m\u001b[0mDemoClass\u001b[0m\u001b[1;33m(\u001b[0m\u001b[1;33m)\u001b[0m\u001b[1;33m\u001b[0m\u001b[1;33m\u001b[0m\u001b[0m\n\u001b[0;32m      6\u001b[0m \u001b[0mobj\u001b[0m\u001b[1;33m.\u001b[0m\u001b[0mshowvalue\u001b[0m\u001b[1;33m(\u001b[0m\u001b[1;33m)\u001b[0m\u001b[1;33m\u001b[0m\u001b[1;33m\u001b[0m\u001b[0m\n",
      "\u001b[1;31mNameError\u001b[0m: name 'a' is not defined"
     ]
    }
   ],
   "source": [
    "class DemoClass:\n",
    "    a=10\n",
    "    def showvalue(self):\n",
    "        print(a)\n",
    "obj=DemoClass()\n",
    "obj.showvalue()"
   ]
  },
  {
   "cell_type": "code",
   "execution_count": 4,
   "id": "3a4c2de6",
   "metadata": {},
   "outputs": [
    {
     "name": "stdout",
     "output_type": "stream",
     "text": [
      "10\n"
     ]
    }
   ],
   "source": [
    "class DemoClass:\n",
    "    a=10\n",
    "    def showvalue(self):\n",
    "        print(self.a)\n",
    "obj=DemoClass()\n",
    "obj.showvalue()"
   ]
  },
  {
   "cell_type": "code",
   "execution_count": 6,
   "id": "99912767",
   "metadata": {},
   "outputs": [
    {
     "ename": "TypeError",
     "evalue": "showvalue() takes 1 positional argument but 3 were given",
     "output_type": "error",
     "traceback": [
      "\u001b[1;31m---------------------------------------------------------------------------\u001b[0m",
      "\u001b[1;31mTypeError\u001b[0m                                 Traceback (most recent call last)",
      "\u001b[1;32m~\\AppData\\Local\\Temp\\ipykernel_6512\\194751146.py\u001b[0m in \u001b[0;36m<module>\u001b[1;34m\u001b[0m\n\u001b[0;32m      5\u001b[0m         \u001b[0mprint\u001b[0m\u001b[1;33m(\u001b[0m\u001b[0mm\u001b[0m\u001b[1;33m)\u001b[0m\u001b[1;33m\u001b[0m\u001b[1;33m\u001b[0m\u001b[0m\n\u001b[0;32m      6\u001b[0m \u001b[0mobj\u001b[0m\u001b[1;33m=\u001b[0m\u001b[0mDemoClass\u001b[0m\u001b[1;33m(\u001b[0m\u001b[1;33m)\u001b[0m\u001b[1;33m\u001b[0m\u001b[1;33m\u001b[0m\u001b[0m\n\u001b[1;32m----> 7\u001b[1;33m \u001b[0mobj\u001b[0m\u001b[1;33m.\u001b[0m\u001b[0mshowvalue\u001b[0m\u001b[1;33m(\u001b[0m\u001b[1;36m1\u001b[0m\u001b[1;33m,\u001b[0m\u001b[1;36m4\u001b[0m\u001b[1;33m)\u001b[0m\u001b[1;33m\u001b[0m\u001b[1;33m\u001b[0m\u001b[0m\n\u001b[0m",
      "\u001b[1;31mTypeError\u001b[0m: showvalue() takes 1 positional argument but 3 were given"
     ]
    }
   ],
   "source": [
    "class DemoClass:\n",
    "    f=10\n",
    "    def showvalue(self):\n",
    "        m=f*b\n",
    "        print(m)\n",
    "obj=DemoClass()\n",
    "obj.showvalue()"
   ]
  },
  {
   "cell_type": "code",
   "execution_count": 11,
   "id": "28a3dbe0",
   "metadata": {},
   "outputs": [
    {
     "name": "stdout",
     "output_type": "stream",
     "text": [
      "100\n"
     ]
    }
   ],
   "source": [
    "class DemoClass:\n",
    "    f=10\n",
    "    def showvalue(self):\n",
    "        self.m=self.f*self.f\n",
    "        print(self.m)\n",
    "obj=DemoClass()\n",
    "obj.showvalue()"
   ]
  },
  {
   "cell_type": "code",
   "execution_count": 13,
   "id": "934c7383",
   "metadata": {},
   "outputs": [
    {
     "name": "stdout",
     "output_type": "stream",
     "text": [
      "100\n",
      "hello world\n"
     ]
    }
   ],
   "source": [
    "class DemoClass:\n",
    "    f=10\n",
    "    def showvalue(self):\n",
    "        self.m=self.f*self.f\n",
    "        print(self.m)\n",
    "    def showvalue1(self):\n",
    "        print(\"hello world\")\n",
    "obj=DemoClass()\n",
    "obj.showvalue()\n",
    "obj.showvalue1()"
   ]
  },
  {
   "cell_type": "code",
   "execution_count": 16,
   "id": "abd14337",
   "metadata": {},
   "outputs": [
    {
     "name": "stdout",
     "output_type": "stream",
     "text": [
      "57\n"
     ]
    }
   ],
   "source": [
    "class DemoClass:\n",
    "    f=10\n",
    "    def showvalue(self,a,b):\n",
    "        print(a+b)\n",
    "    \n",
    "obj=DemoClass()\n",
    "obj.showvalue(12,45)"
   ]
  },
  {
   "cell_type": "code",
   "execution_count": 17,
   "id": "2ee5ef76",
   "metadata": {},
   "outputs": [
    {
     "name": "stdout",
     "output_type": "stream",
     "text": [
      "Abhinandan\n",
      "57\n"
     ]
    }
   ],
   "source": [
    "class DemoClass:\n",
    "    f=10\n",
    "    def __init__(self):\n",
    "        print(\"Abhinandan\")\n",
    "    def showvalue(self,a,b):\n",
    "        print(a+b)\n",
    "    \n",
    "obj=DemoClass()\n",
    "obj.showvalue(12,45)"
   ]
  },
  {
   "cell_type": "code",
   "execution_count": null,
   "id": "a6888f02",
   "metadata": {},
   "outputs": [],
   "source": []
  }
 ],
 "metadata": {
  "kernelspec": {
   "display_name": "Python 3 (ipykernel)",
   "language": "python",
   "name": "python3"
  },
  "language_info": {
   "codemirror_mode": {
    "name": "ipython",
    "version": 3
   },
   "file_extension": ".py",
   "mimetype": "text/x-python",
   "name": "python",
   "nbconvert_exporter": "python",
   "pygments_lexer": "ipython3",
   "version": "3.9.13"
  }
 },
 "nbformat": 4,
 "nbformat_minor": 5
}
